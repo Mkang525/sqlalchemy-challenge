{
 "cells": [
  {
   "cell_type": "code",
   "execution_count": 1,
   "metadata": {},
   "outputs": [],
   "source": [
    "%matplotlib inline\n",
    "from matplotlib import style\n",
    "style.use('fivethirtyeight')\n",
    "import matplotlib.pyplot as plt"
   ]
  },
  {
   "cell_type": "code",
   "execution_count": 2,
   "metadata": {},
   "outputs": [],
   "source": [
    "import numpy as np\n",
    "import pandas as pd"
   ]
  },
  {
   "cell_type": "code",
   "execution_count": 3,
   "metadata": {},
   "outputs": [],
   "source": [
    " import datetime as dt"
   ]
  },
  {
   "cell_type": "code",
   "execution_count": 4,
   "metadata": {},
   "outputs": [],
   "source": [
    "import sqlalchemy\n",
    "from sqlalchemy.ext.automap import automap_base\n",
    "from sqlalchemy.orm import Session\n",
    "from sqlalchemy import *\n",
    "#create_engine, func"
   ]
  },
  {
   "cell_type": "code",
   "execution_count": 5,
   "metadata": {},
   "outputs": [],
   "source": [
    " engine = create_engine(\"sqlite:///hawaii.sqlite\")"
   ]
  },
  {
   "cell_type": "markdown",
   "metadata": {},
   "source": [
    "##  Step 1 - Climate Analysis and Exploration"
   ]
  },
  {
   "cell_type": "code",
   "execution_count": 6,
   "metadata": {},
   "outputs": [],
   "source": [
    " # reflect an existing database into a new model\n",
    "Base = automap_base()\n",
    "Base.prepare(engine, reflect=True)\n",
    "Base.classes.keys()\n",
    "\n",
    "# reflect the tables\n",
    "meta = MetaData()\n",
    "meta.reflect(bind=engine)\n",
    "measurement_table = meta.tables['measurement']\n",
    "station_table = meta.tables['station']\n"
   ]
  },
  {
   "cell_type": "code",
   "execution_count": 7,
   "metadata": {},
   "outputs": [
    {
     "data": {
      "text/plain": [
       "['measurement', 'station']"
      ]
     },
     "execution_count": 7,
     "metadata": {},
     "output_type": "execute_result"
    }
   ],
   "source": [
    " # We can view all of the classes that automap found\n",
    "Base.classes.keys()"
   ]
  },
  {
   "cell_type": "code",
   "execution_count": 8,
   "metadata": {},
   "outputs": [],
   "source": [
    " # Save references to each table\n",
    "Measurement = Base.classes.measurement\n",
    "Station= Base.classes.station"
   ]
  },
  {
   "cell_type": "code",
   "execution_count": 9,
   "metadata": {},
   "outputs": [
    {
     "name": "stdout",
     "output_type": "stream",
     "text": [
      "id INTEGER\n",
      "station TEXT\n",
      "date TEXT\n",
      "prcp FLOAT\n",
      "tobs FLOAT\n"
     ]
    },
    {
     "data": {
      "text/plain": [
       "[(1, 'USC00519397', '2010-01-01', 0.08, 65.0),\n",
       " (2, 'USC00519397', '2010-01-02', 0.0, 63.0),\n",
       " (3, 'USC00519397', '2010-01-03', 0.0, 74.0),\n",
       " (4, 'USC00519397', '2010-01-04', 0.0, 76.0),\n",
       " (5, 'USC00519397', '2010-01-06', None, 73.0),\n",
       " (6, 'USC00519397', '2010-01-07', 0.06, 70.0),\n",
       " (7, 'USC00519397', '2010-01-08', 0.0, 64.0),\n",
       " (8, 'USC00519397', '2010-01-09', 0.0, 68.0),\n",
       " (9, 'USC00519397', '2010-01-10', 0.0, 73.0),\n",
       " (10, 'USC00519397', '2010-01-11', 0.01, 64.0)]"
      ]
     },
     "execution_count": 9,
     "metadata": {},
     "output_type": "execute_result"
    }
   ],
   "source": [
    "\n",
    "\n",
    "inspector = inspect(engine)\n",
    "inspector.get_table_names()\n",
    "\n",
    "columns = inspector.get_columns('measurement')\n",
    "for c in columns:\n",
    "    print(c['name'], c[\"type\"])\n",
    "engine.execute('SELECT * FROM measurement LIMIT 10').fetchall()"
   ]
  },
  {
   "cell_type": "code",
   "execution_count": 10,
   "metadata": {},
   "outputs": [
    {
     "name": "stdout",
     "output_type": "stream",
     "text": [
      "id INTEGER\n",
      "station TEXT\n",
      "name TEXT\n",
      "latitude FLOAT\n",
      "longitude FLOAT\n",
      "elevation FLOAT\n"
     ]
    },
    {
     "data": {
      "text/plain": [
       "[(1, 'USC00519397', 'WAIKIKI 717.2, HI US', 21.2716, -157.8168, 3.0),\n",
       " (2, 'USC00513117', 'KANEOHE 838.1, HI US', 21.4234, -157.8015, 14.6),\n",
       " (3, 'USC00514830', 'KUALOA RANCH HEADQUARTERS 886.9, HI US', 21.5213, -157.8374, 7.0),\n",
       " (4, 'USC00517948', 'PEARL CITY, HI US', 21.3934, -157.9751, 11.9),\n",
       " (5, 'USC00518838', 'UPPER WAHIAWA 874.3, HI US', 21.4992, -158.0111, 306.6),\n",
       " (6, 'USC00519523', 'WAIMANALO EXPERIMENTAL FARM, HI US', 21.33556, -157.71139, 19.5),\n",
       " (7, 'USC00519281', 'WAIHEE 837.5, HI US', 21.45167, -157.84888999999998, 32.9),\n",
       " (8, 'USC00511918', 'HONOLULU OBSERVATORY 702.2, HI US', 21.3152, -157.9992, 0.9),\n",
       " (9, 'USC00516128', 'MANOA LYON ARBO 785.2, HI US', 21.3331, -157.8025, 152.4)]"
      ]
     },
     "execution_count": 10,
     "metadata": {},
     "output_type": "execute_result"
    }
   ],
   "source": [
    "columns = inspector.get_columns('station')\n",
    "for c in columns:\n",
    "    print(c['name'],c['type'])\n",
    "engine.execute('SELECT * FROM station').fetchall()"
   ]
  },
  {
   "cell_type": "code",
   "execution_count": 11,
   "metadata": {},
   "outputs": [],
   "source": [
    "# Create our session (link) from Python to the DB\n",
    "session = Session(engine)"
   ]
  },
  {
   "cell_type": "markdown",
   "metadata": {},
   "source": [
    "  ## Precipitation Analysis"
   ]
  },
  {
   "cell_type": "code",
   "execution_count": 12,
   "metadata": {},
   "outputs": [
    {
     "name": "stdout",
     "output_type": "stream",
     "text": [
      "The last data point in the database was on:  ('2017-08-23',)\n",
      "Query Date:  2016-08-23\n"
     ]
    },
    {
     "data": {
      "text/html": [
       "<div>\n",
       "<style scoped>\n",
       "    .dataframe tbody tr th:only-of-type {\n",
       "        vertical-align: middle;\n",
       "    }\n",
       "\n",
       "    .dataframe tbody tr th {\n",
       "        vertical-align: top;\n",
       "    }\n",
       "\n",
       "    .dataframe thead th {\n",
       "        text-align: right;\n",
       "    }\n",
       "</style>\n",
       "<table border=\"1\" class=\"dataframe\">\n",
       "  <thead>\n",
       "    <tr style=\"text-align: right;\">\n",
       "      <th></th>\n",
       "      <th>date</th>\n",
       "      <th>prcp</th>\n",
       "    </tr>\n",
       "  </thead>\n",
       "  <tbody>\n",
       "    <tr>\n",
       "      <th>2229</th>\n",
       "      <td>2017-08-23</td>\n",
       "      <td>0.45</td>\n",
       "    </tr>\n",
       "    <tr>\n",
       "      <th>2228</th>\n",
       "      <td>2017-08-23</td>\n",
       "      <td>0.08</td>\n",
       "    </tr>\n",
       "    <tr>\n",
       "      <th>2227</th>\n",
       "      <td>2017-08-23</td>\n",
       "      <td>0.00</td>\n",
       "    </tr>\n",
       "    <tr>\n",
       "      <th>2226</th>\n",
       "      <td>2017-08-23</td>\n",
       "      <td>0.00</td>\n",
       "    </tr>\n",
       "    <tr>\n",
       "      <th>2225</th>\n",
       "      <td>2017-08-22</td>\n",
       "      <td>0.50</td>\n",
       "    </tr>\n",
       "    <tr>\n",
       "      <th>...</th>\n",
       "      <td>...</td>\n",
       "      <td>...</td>\n",
       "    </tr>\n",
       "    <tr>\n",
       "      <th>2</th>\n",
       "      <td>2016-08-23</td>\n",
       "      <td>0.05</td>\n",
       "    </tr>\n",
       "    <tr>\n",
       "      <th>1</th>\n",
       "      <td>2016-08-23</td>\n",
       "      <td>0.15</td>\n",
       "    </tr>\n",
       "    <tr>\n",
       "      <th>5</th>\n",
       "      <td>2016-08-23</td>\n",
       "      <td>1.79</td>\n",
       "    </tr>\n",
       "    <tr>\n",
       "      <th>6</th>\n",
       "      <td>2016-08-23</td>\n",
       "      <td>0.70</td>\n",
       "    </tr>\n",
       "    <tr>\n",
       "      <th>0</th>\n",
       "      <td>2016-08-23</td>\n",
       "      <td>0.00</td>\n",
       "    </tr>\n",
       "  </tbody>\n",
       "</table>\n",
       "<p>2021 rows × 2 columns</p>\n",
       "</div>"
      ],
      "text/plain": [
       "            date  prcp\n",
       "2229  2017-08-23  0.45\n",
       "2228  2017-08-23  0.08\n",
       "2227  2017-08-23  0.00\n",
       "2226  2017-08-23  0.00\n",
       "2225  2017-08-22  0.50\n",
       "...          ...   ...\n",
       "2     2016-08-23  0.05\n",
       "1     2016-08-23  0.15\n",
       "5     2016-08-23  1.79\n",
       "6     2016-08-23  0.70\n",
       "0     2016-08-23  0.00\n",
       "\n",
       "[2021 rows x 2 columns]"
      ]
     },
     "execution_count": 12,
     "metadata": {},
     "output_type": "execute_result"
    }
   ],
   "source": [
    "# Design a query to retrieve the last 12 months of precipitation data and plot the results\n",
    "#Select only the date and prcp values.\n",
    "\n",
    "last_date = session.query(Measurement.date).order_by(Measurement.date.desc()).first()\n",
    "print(\"The last data point in the database was on: \", last_date)\n",
    "\n",
    "oneyear_date = dt.date(2017, 8, 23) - dt.timedelta(days=365)\n",
    "print(\"Query Date: \", oneyear_date)\n",
    "\n",
    "\n",
    "prcp_12 = session.query(Measurement.date, Measurement.prcp).\\\n",
    "    filter(Measurement.date >= '2016-08-23').order_by(Measurement.date).all()\n",
    "\n",
    "#Load the query results into a Pandas DataFrame and set the index to the date column.\n",
    "\n",
    "prcp12_df = pd.DataFrame(prcp_12)\n",
    "prcp12_df.reset_index(level=0, inplace=True)\n",
    "prcp12_df = prcp12_df[['date', 'prcp']]\n",
    "prcp12_df\n",
    "\n",
    "precipitation_df = prcp12_df.dropna(axis=0,how='any')\n",
    "precipitation_df\n",
    "\n",
    "#Sort the DataFrame values by date.\n",
    "\n",
    "precipitation_df = precipitation_df.sort_values(by = 'date', ascending = False)\n",
    "precipitation_df\n"
   ]
  },
  {
   "cell_type": "code",
   "execution_count": 13,
   "metadata": {},
   "outputs": [
    {
     "data": {
      "image/png": "[encoded data removed]",
      "text/plain": [
       "<Figure size 432x288 with 1 Axes>"
      ]
     },
     "metadata": {},
     "output_type": "display_data"
    },
    {
     "data": {
      "text/plain": [
       "<Figure size 360x720 with 0 Axes>"
      ]
     },
     "metadata": {},
     "output_type": "display_data"
    }
   ],
   "source": [
    "#Plot the results using the DataFrame plot method.\n",
    "\n",
    "date_prcp = precipitation_df['date'].values.tolist()\n",
    "date_prcp\n",
    "\n",
    "prcp = precipitation_df['prcp'].values.tolist()\n",
    "prcp\n",
    "\n",
    "data = {\"Date\": date_prcp,\n",
    "        \"Inches\": prcp};\n",
    "\n",
    "dataFrame = pd.DataFrame(data = data)\n",
    "\n",
    "dataFrame.plot.bar(x=\"Date\", y=\"Inches\", title=\"Precipitation Data for Last 12 Months\")\n",
    "plt.figure(figsize=(5,10))\n",
    "plt.show()\n"
   ]
  },
  {
   "cell_type": "code",
   "execution_count": 14,
   "metadata": {},
   "outputs": [
    {
     "data": {
      "text/html": [
       "<div>\n",
       "<style scoped>\n",
       "    .dataframe tbody tr th:only-of-type {\n",
       "        vertical-align: middle;\n",
       "    }\n",
       "\n",
       "    .dataframe tbody tr th {\n",
       "        vertical-align: top;\n",
       "    }\n",
       "\n",
       "    .dataframe thead th {\n",
       "        text-align: right;\n",
       "    }\n",
       "</style>\n",
       "<table border=\"1\" class=\"dataframe\">\n",
       "  <thead>\n",
       "    <tr style=\"text-align: right;\">\n",
       "      <th></th>\n",
       "      <th>prcp</th>\n",
       "    </tr>\n",
       "  </thead>\n",
       "  <tbody>\n",
       "    <tr>\n",
       "      <th>count</th>\n",
       "      <td>2021.000000</td>\n",
       "    </tr>\n",
       "    <tr>\n",
       "      <th>mean</th>\n",
       "      <td>0.177279</td>\n",
       "    </tr>\n",
       "    <tr>\n",
       "      <th>std</th>\n",
       "      <td>0.461190</td>\n",
       "    </tr>\n",
       "    <tr>\n",
       "      <th>min</th>\n",
       "      <td>0.000000</td>\n",
       "    </tr>\n",
       "    <tr>\n",
       "      <th>25%</th>\n",
       "      <td>0.000000</td>\n",
       "    </tr>\n",
       "    <tr>\n",
       "      <th>50%</th>\n",
       "      <td>0.020000</td>\n",
       "    </tr>\n",
       "    <tr>\n",
       "      <th>75%</th>\n",
       "      <td>0.130000</td>\n",
       "    </tr>\n",
       "    <tr>\n",
       "      <th>max</th>\n",
       "      <td>6.700000</td>\n",
       "    </tr>\n",
       "  </tbody>\n",
       "</table>\n",
       "</div>"
      ],
      "text/plain": [
       "              prcp\n",
       "count  2021.000000\n",
       "mean      0.177279\n",
       "std       0.461190\n",
       "min       0.000000\n",
       "25%       0.000000\n",
       "50%       0.020000\n",
       "75%       0.130000\n",
       "max       6.700000"
      ]
     },
     "execution_count": 14,
     "metadata": {},
     "output_type": "execute_result"
    }
   ],
   "source": [
    "#Use Pandas to print the summary statistics for the precipitation data.\n",
    "precipitation_df.describe()"
   ]
  },
  {
   "cell_type": "markdown",
   "metadata": {},
   "source": [
    "## Station Analysis"
   ]
  },
  {
   "cell_type": "code",
   "execution_count": 15,
   "metadata": {},
   "outputs": [
    {
     "name": "stdout",
     "output_type": "stream",
     "text": [
      "There are 9 stations.\n"
     ]
    },
    {
     "data": {
      "text/plain": [
       "[('USC00519397', 87.0),\n",
       " ('USC00519397', 87.0),\n",
       " ('USC00517948', 87.0),\n",
       " ('USC00511918', 87.0),\n",
       " ('USC00511918', 86.0),\n",
       " ('USC00511918', 86.0),\n",
       " ('USC00511918', 86.0),\n",
       " ('USC00511918', 86.0),\n",
       " ('USC00519397', 85.0),\n",
       " ('USC00519397', 85.0),\n",
       " ('USC00513117', 85.0),\n",
       " ('USC00513117', 85.0),\n",
       " ('USC00514830', 85.0),\n",
       " ('USC00519523', 85.0),\n",
       " ('USC00519281', 85.0),\n",
       " ('USC00511918', 85.0),\n",
       " ('USC00511918', 85.0),\n",
       " ('USC00511918', 85.0),\n",
       " ('USC00511918', 85.0),\n",
       " ('USC00519397', 84.0),\n",
       " ('USC00519397', 84.0),\n",
       " ('USC00519397', 84.0),\n",
       " ('USC00519397', 84.0),\n",
       " ('USC00519397', 84.0),\n",
       " ('USC00513117', 84.0),\n",
       " ('USC00513117', 84.0),\n",
       " ('USC00513117', 84.0),\n",
       " ('USC00513117', 84.0),\n",
       " ('USC00513117', 84.0),\n",
       " ('USC00514830', 84.0),\n",
       " ('USC00514830', 84.0),\n",
       " ('USC00517948', 84.0),\n",
       " ('USC00517948', 84.0),\n",
       " ('USC00519523', 84.0),\n",
       " ('USC00519523', 84.0),\n",
       " ('USC00519523', 84.0),\n",
       " ('USC00519523', 84.0),\n",
       " ('USC00519523', 84.0),\n",
       " ('USC00519523', 84.0),\n",
       " ('USC00519523', 84.0),\n",
       " ('USC00519523', 84.0),\n",
       " ('USC00519523', 84.0),\n",
       " ('USC00519523', 84.0),\n",
       " ('USC00519281', 84.0),\n",
       " ('USC00511918', 84.0),\n",
       " ('USC00511918', 84.0),\n",
       " ('USC00511918', 84.0),\n",
       " ('USC00511918', 84.0),\n",
       " ('USC00511918', 84.0),\n",
       " ('USC00511918', 84.0),\n",
       " ('USC00511918', 84.0),\n",
       " ('USC00511918', 84.0),\n",
       " ('USC00511918', 84.0),\n",
       " ('USC00511918', 84.0),\n",
       " ('USC00516128', 84.0),\n",
       " ('USC00519397', 83.0),\n",
       " ('USC00519397', 83.0),\n",
       " ('USC00519397', 83.0),\n",
       " ('USC00519397', 83.0),\n",
       " ('USC00519397', 83.0),\n",
       " ('USC00519397', 83.0),\n",
       " ('USC00519397', 83.0),\n",
       " ('USC00519397', 83.0),\n",
       " ('USC00519397', 83.0),\n",
       " ('USC00519397', 83.0),\n",
       " ('USC00519397', 83.0),\n",
       " ('USC00519397', 83.0),\n",
       " ('USC00519397', 83.0),\n",
       " ('USC00519397', 83.0),\n",
       " ('USC00519397', 83.0),\n",
       " ('USC00519397', 83.0),\n",
       " ('USC00513117', 83.0),\n",
       " ('USC00513117', 83.0),\n",
       " ('USC00513117', 83.0),\n",
       " ('USC00513117', 83.0),\n",
       " ('USC00513117', 83.0),\n",
       " ('USC00514830', 83.0),\n",
       " ('USC00514830', 83.0),\n",
       " ('USC00514830', 83.0),\n",
       " ('USC00514830', 83.0),\n",
       " ('USC00514830', 83.0),\n",
       " ('USC00514830', 83.0),\n",
       " ('USC00514830', 83.0),\n",
       " ('USC00514830', 83.0),\n",
       " ('USC00514830', 83.0),\n",
       " ('USC00514830', 83.0),\n",
       " ('USC00517948', 83.0),\n",
       " ('USC00517948', 83.0),\n",
       " ('USC00517948', 83.0),\n",
       " ('USC00517948', 83.0),\n",
       " ('USC00517948', 83.0),\n",
       " ('USC00517948', 83.0),\n",
       " ('USC00517948', 83.0),\n",
       " ('USC00517948', 83.0),\n",
       " ('USC00517948', 83.0),\n",
       " ('USC00517948', 83.0),\n",
       " ('USC00517948', 83.0),\n",
       " ('USC00517948', 83.0),\n",
       " ('USC00517948', 83.0),\n",
       " ('USC00517948', 83.0),\n",
       " ('USC00517948', 83.0),\n",
       " ('USC00517948', 83.0),\n",
       " ('USC00517948', 83.0),\n",
       " ('USC00518838', 83.0),\n",
       " ('USC00519523', 83.0),\n",
       " ('USC00519523', 83.0),\n",
       " ('USC00519523', 83.0),\n",
       " ('USC00519523', 83.0),\n",
       " ('USC00519523', 83.0),\n",
       " ('USC00519523', 83.0),\n",
       " ('USC00519523', 83.0),\n",
       " ('USC00519523', 83.0),\n",
       " ('USC00519523', 83.0),\n",
       " ('USC00519523', 83.0),\n",
       " ('USC00519523', 83.0),\n",
       " ('USC00519523', 83.0),\n",
       " ('USC00519523', 83.0),\n",
       " ('USC00519523', 83.0),\n",
       " ('USC00519523', 83.0),\n",
       " ('USC00519523', 83.0),\n",
       " ('USC00519523', 83.0),\n",
       " ('USC00519281', 83.0),\n",
       " ('USC00519281', 83.0),\n",
       " ('USC00519281', 83.0),\n",
       " ('USC00511918', 83.0),\n",
       " ('USC00511918', 83.0),\n",
       " ('USC00511918', 83.0),\n",
       " ('USC00511918', 83.0),\n",
       " ('USC00511918', 83.0),\n",
       " ('USC00511918', 83.0),\n",
       " ('USC00511918', 83.0),\n",
       " ('USC00511918', 83.0),\n",
       " ('USC00511918', 83.0),\n",
       " ('USC00511918', 83.0),\n",
       " ('USC00516128', 83.0),\n",
       " ('USC00516128', 83.0),\n",
       " ('USC00519397', 82.0),\n",
       " ('USC00519397', 82.0),\n",
       " ('USC00519397', 82.0),\n",
       " ('USC00519397', 82.0),\n",
       " ('USC00519397', 82.0),\n",
       " ('USC00519397', 82.0),\n",
       " ('USC00519397', 82.0),\n",
       " ('USC00519397', 82.0),\n",
       " ('USC00519397', 82.0),\n",
       " ('USC00519397', 82.0),\n",
       " ('USC00519397', 82.0),\n",
       " ('USC00519397', 82.0),\n",
       " ('USC00519397', 82.0),\n",
       " ('USC00519397', 82.0),\n",
       " ('USC00519397', 82.0),\n",
       " ('USC00519397', 82.0),\n",
       " ('USC00519397', 82.0),\n",
       " ('USC00519397', 82.0),\n",
       " ('USC00519397', 82.0),\n",
       " ('USC00519397', 82.0),\n",
       " ('USC00519397', 82.0),\n",
       " ('USC00519397', 82.0),\n",
       " ('USC00519397', 82.0),\n",
       " ('USC00519397', 82.0),\n",
       " ('USC00519397', 82.0),\n",
       " ('USC00519397', 82.0),\n",
       " ('USC00513117', 82.0),\n",
       " ('USC00513117', 82.0),\n",
       " ('USC00513117', 82.0),\n",
       " ('USC00513117', 82.0),\n",
       " ('USC00513117', 82.0),\n",
       " ('USC00514830', 82.0),\n",
       " ('USC00514830', 82.0),\n",
       " ('USC00514830', 82.0),\n",
       " ('USC00514830', 82.0),\n",
       " ('USC00514830', 82.0),\n",
       " ('USC00514830', 82.0),\n",
       " ('USC00514830', 82.0),\n",
       " ('USC00514830', 82.0),\n",
       " ('USC00514830', 82.0),\n",
       " ('USC00514830', 82.0),\n",
       " ('USC00514830', 82.0),\n",
       " ('USC00514830', 82.0),\n",
       " ('USC00514830', 82.0),\n",
       " ('USC00514830', 82.0),\n",
       " ('USC00514830', 82.0),\n",
       " ('USC00514830', 82.0),\n",
       " ('USC00514830', 82.0),\n",
       " ('USC00514830', 82.0),\n",
       " ('USC00514830', 82.0),\n",
       " ('USC00514830', 82.0),\n",
       " ('USC00514830', 82.0),\n",
       " ('USC00514830', 82.0),\n",
       " ('USC00514830', 82.0),\n",
       " ('USC00514830', 82.0),\n",
       " ('USC00514830', 82.0),\n",
       " ('USC00514830', 82.0),\n",
       " ('USC00514830', 82.0),\n",
       " ('USC00514830', 82.0),\n",
       " ('USC00514830', 82.0),\n",
       " ('USC00514830', 82.0),\n",
       " ('USC00514830', 82.0),\n",
       " ('USC00517948', 82.0),\n",
       " ('USC00517948', 82.0),\n",
       " ('USC00517948', 82.0),\n",
       " ('USC00517948', 82.0),\n",
       " ('USC00517948', 82.0),\n",
       " ('USC00517948', 82.0),\n",
       " ('USC00517948', 82.0),\n",
       " ('USC00517948', 82.0),\n",
       " ('USC00517948', 82.0),\n",
       " ('USC00517948', 82.0),\n",
       " ('USC00517948', 82.0),\n",
       " ('USC00517948', 82.0),\n",
       " ('USC00517948', 82.0),\n",
       " ('USC00517948', 82.0),\n",
       " ('USC00517948', 82.0),\n",
       " ('USC00517948', 82.0),\n",
       " ('USC00517948', 82.0),\n",
       " ('USC00517948', 82.0),\n",
       " ('USC00517948', 82.0),\n",
       " ('USC00519523', 82.0),\n",
       " ('USC00519523', 82.0),\n",
       " ('USC00519523', 82.0),\n",
       " ('USC00519523', 82.0),\n",
       " ('USC00519523', 82.0),\n",
       " ('USC00519523', 82.0),\n",
       " ('USC00519523', 82.0),\n",
       " ('USC00519523', 82.0),\n",
       " ('USC00519523', 82.0),\n",
       " ('USC00519523', 82.0),\n",
       " ('USC00519523', 82.0),\n",
       " ('USC00519523', 82.0),\n",
       " ('USC00519523', 82.0),\n",
       " ('USC00519523', 82.0),\n",
       " ('USC00519523', 82.0),\n",
       " ('USC00519523', 82.0),\n",
       " ('USC00519523', 82.0),\n",
       " ('USC00519523', 82.0),\n",
       " ('USC00519523', 82.0),\n",
       " ('USC00519523', 82.0),\n",
       " ('USC00519523', 82.0),\n",
       " ('USC00519523', 82.0),\n",
       " ('USC00519523', 82.0),\n",
       " ('USC00519523', 82.0),\n",
       " ('USC00519523', 82.0),\n",
       " ('USC00519523', 82.0),\n",
       " ('USC00519523', 82.0),\n",
       " ('USC00519523', 82.0),\n",
       " ('USC00519523', 82.0),\n",
       " ('USC00519523', 82.0),\n",
       " ('USC00519523', 82.0),\n",
       " ('USC00519523', 82.0),\n",
       " ('USC00519523', 82.0),\n",
       " ('USC00519523', 82.0),\n",
       " ('USC00519523', 82.0),\n",
       " ('USC00519523', 82.0),\n",
       " ('USC00519523', 82.0),\n",
       " ('USC00519523', 82.0),\n",
       " ('USC00519523', 82.0),\n",
       " ('USC00519523', 82.0),\n",
       " ('USC00519523', 82.0),\n",
       " ('USC00519523', 82.0),\n",
       " ('USC00519523', 82.0),\n",
       " ('USC00519523', 82.0),\n",
       " ('USC00519523', 82.0),\n",
       " ('USC00519523', 82.0),\n",
       " ('USC00519523', 82.0),\n",
       " ('USC00519523', 82.0),\n",
       " ('USC00519523', 82.0),\n",
       " ('USC00519523', 82.0),\n",
       " ('USC00519523', 82.0),\n",
       " ('USC00519523', 82.0),\n",
       " ('USC00519523', 82.0),\n",
       " ('USC00519281', 82.0),\n",
       " ('USC00519281', 82.0),\n",
       " ('USC00519281', 82.0),\n",
       " ('USC00519281', 82.0),\n",
       " ('USC00519281', 82.0),\n",
       " ('USC00519281', 82.0),\n",
       " ('USC00519281', 82.0),\n",
       " ('USC00519281', 82.0),\n",
       " ('USC00519281', 82.0),\n",
       " ('USC00519281', 82.0),\n",
       " ('USC00519281', 82.0),\n",
       " ('USC00511918', 82.0),\n",
       " ('USC00511918', 82.0),\n",
       " ('USC00511918', 82.0),\n",
       " ('USC00511918', 82.0),\n",
       " ('USC00511918', 82.0),\n",
       " ('USC00511918', 82.0),\n",
       " ('USC00511918', 82.0),\n",
       " ('USC00511918', 82.0),\n",
       " ('USC00511918', 82.0),\n",
       " ('USC00511918', 82.0),\n",
       " ('USC00511918', 82.0),\n",
       " ('USC00511918', 82.0),\n",
       " ('USC00511918', 82.0),\n",
       " ('USC00511918', 82.0),\n",
       " ('USC00511918', 82.0),\n",
       " ('USC00511918', 82.0),\n",
       " ('USC00511918', 82.0),\n",
       " ('USC00511918', 82.0),\n",
       " ('USC00511918', 82.0),\n",
       " ('USC00511918', 82.0),\n",
       " ('USC00511918', 82.0),\n",
       " ('USC00516128', 82.0),\n",
       " ('USC00516128', 82.0),\n",
       " ('USC00516128', 82.0),\n",
       " ('USC00519397', 81.0),\n",
       " ('USC00519397', 81.0),\n",
       " ('USC00519397', 81.0),\n",
       " ('USC00519397', 81.0),\n",
       " ('USC00519397', 81.0),\n",
       " ('USC00519397', 81.0),\n",
       " ('USC00519397', 81.0),\n",
       " ('USC00519397', 81.0),\n",
       " ('USC00519397', 81.0),\n",
       " ('USC00519397', 81.0),\n",
       " ('USC00519397', 81.0),\n",
       " ('USC00519397', 81.0),\n",
       " ('USC00519397', 81.0),\n",
       " ('USC00519397', 81.0),\n",
       " ('USC00519397', 81.0),\n",
       " ('USC00519397', 81.0),\n",
       " ('USC00519397', 81.0),\n",
       " ('USC00519397', 81.0),\n",
       " ('USC00519397', 81.0),\n",
       " ('USC00519397', 81.0),\n",
       " ('USC00519397', 81.0),\n",
       " ('USC00519397', 81.0),\n",
       " ('USC00519397', 81.0),\n",
       " ('USC00519397', 81.0),\n",
       " ('USC00519397', 81.0),\n",
       " ('USC00519397', 81.0),\n",
       " ('USC00519397', 81.0),\n",
       " ('USC00519397', 81.0),\n",
       " ('USC00519397', 81.0),\n",
       " ('USC00519397', 81.0),\n",
       " ('USC00519397', 81.0),\n",
       " ('USC00519397', 81.0),\n",
       " ('USC00519397', 81.0),\n",
       " ('USC00519397', 81.0),\n",
       " ('USC00519397', 81.0),\n",
       " ('USC00519397', 81.0),\n",
       " ('USC00519397', 81.0),\n",
       " ('USC00519397', 81.0),\n",
       " ('USC00519397', 81.0),\n",
       " ('USC00519397', 81.0),\n",
       " ('USC00519397', 81.0),\n",
       " ('USC00519397', 81.0),\n",
       " ('USC00519397', 81.0),\n",
       " ('USC00519397', 81.0),\n",
       " ('USC00519397', 81.0),\n",
       " ('USC00519397', 81.0),\n",
       " ('USC00519397', 81.0),\n",
       " ('USC00519397', 81.0),\n",
       " ('USC00519397', 81.0),\n",
       " ('USC00519397', 81.0),\n",
       " ('USC00519397', 81.0),\n",
       " ('USC00519397', 81.0),\n",
       " ('USC00519397', 81.0),\n",
       " ('USC00519397', 81.0),\n",
       " ('USC00519397', 81.0),\n",
       " ('USC00519397', 81.0),\n",
       " ('USC00519397', 81.0),\n",
       " ('USC00519397', 81.0),\n",
       " ('USC00519397', 81.0),\n",
       " ('USC00519397', 81.0),\n",
       " ('USC00519397', 81.0),\n",
       " ('USC00519397', 81.0),\n",
       " ('USC00519397', 81.0),\n",
       " ('USC00519397', 81.0),\n",
       " ('USC00519397', 81.0),\n",
       " ('USC00519397', 81.0),\n",
       " ('USC00519397', 81.0),\n",
       " ('USC00519397', 81.0),\n",
       " ('USC00519397', 81.0),\n",
       " ('USC00519397', 81.0),\n",
       " ('USC00519397', 81.0),\n",
       " ('USC00519397', 81.0),\n",
       " ('USC00519397', 81.0),\n",
       " ('USC00513117', 81.0),\n",
       " ('USC00513117', 81.0),\n",
       " ('USC00513117', 81.0),\n",
       " ('USC00513117', 81.0),\n",
       " ('USC00513117', 81.0),\n",
       " ('USC00513117', 81.0),\n",
       " ('USC00513117', 81.0),\n",
       " ('USC00513117', 81.0),\n",
       " ('USC00513117', 81.0),\n",
       " ('USC00513117', 81.0),\n",
       " ('USC00514830', 81.0),\n",
       " ('USC00514830', 81.0),\n",
       " ('USC00514830', 81.0),\n",
       " ('USC00514830', 81.0),\n",
       " ('USC00514830', 81.0),\n",
       " ('USC00514830', 81.0),\n",
       " ('USC00514830', 81.0),\n",
       " ('USC00514830', 81.0),\n",
       " ('USC00514830', 81.0),\n",
       " ('USC00514830', 81.0),\n",
       " ('USC00514830', 81.0),\n",
       " ('USC00514830', 81.0),\n",
       " ('USC00514830', 81.0),\n",
       " ('USC00514830', 81.0),\n",
       " ('USC00514830', 81.0),\n",
       " ('USC00514830', 81.0),\n",
       " ('USC00514830', 81.0),\n",
       " ('USC00514830', 81.0),\n",
       " ('USC00514830', 81.0),\n",
       " ('USC00514830', 81.0),\n",
       " ('USC00514830', 81.0),\n",
       " ('USC00514830', 81.0),\n",
       " ('USC00514830', 81.0),\n",
       " ('USC00514830', 81.0),\n",
       " ('USC00514830', 81.0),\n",
       " ('USC00514830', 81.0),\n",
       " ('USC00514830', 81.0),\n",
       " ('USC00514830', 81.0),\n",
       " ('USC00514830', 81.0),\n",
       " ('USC00514830', 81.0),\n",
       " ('USC00514830', 81.0),\n",
       " ('USC00514830', 81.0),\n",
       " ('USC00514830', 81.0),\n",
       " ('USC00514830', 81.0),\n",
       " ('USC00514830', 81.0),\n",
       " ('USC00514830', 81.0),\n",
       " ('USC00514830', 81.0),\n",
       " ('USC00514830', 81.0),\n",
       " ('USC00514830', 81.0),\n",
       " ('USC00514830', 81.0),\n",
       " ('USC00514830', 81.0),\n",
       " ('USC00514830', 81.0),\n",
       " ('USC00514830', 81.0),\n",
       " ('USC00514830', 81.0),\n",
       " ('USC00514830', 81.0),\n",
       " ('USC00514830', 81.0),\n",
       " ('USC00514830', 81.0),\n",
       " ('USC00514830', 81.0),\n",
       " ('USC00514830', 81.0),\n",
       " ('USC00514830', 81.0),\n",
       " ('USC00514830', 81.0),\n",
       " ('USC00514830', 81.0),\n",
       " ('USC00514830', 81.0),\n",
       " ('USC00514830', 81.0),\n",
       " ('USC00514830', 81.0),\n",
       " ('USC00514830', 81.0),\n",
       " ('USC00514830', 81.0),\n",
       " ('USC00514830', 81.0),\n",
       " ('USC00514830', 81.0),\n",
       " ('USC00514830', 81.0),\n",
       " ('USC00514830', 81.0),\n",
       " ('USC00514830', 81.0),\n",
       " ('USC00514830', 81.0),\n",
       " ('USC00514830', 81.0),\n",
       " ('USC00514830', 81.0),\n",
       " ('USC00514830', 81.0),\n",
       " ('USC00514830', 81.0),\n",
       " ('USC00514830', 81.0),\n",
       " ('USC00514830', 81.0),\n",
       " ('USC00514830', 81.0),\n",
       " ('USC00514830', 81.0),\n",
       " ('USC00514830', 81.0),\n",
       " ('USC00514830', 81.0),\n",
       " ('USC00514830', 81.0),\n",
       " ('USC00514830', 81.0),\n",
       " ('USC00514830', 81.0),\n",
       " ('USC00514830', 81.0),\n",
       " ('USC00514830', 81.0),\n",
       " ('USC00514830', 81.0),\n",
       " ('USC00514830', 81.0),\n",
       " ('USC00514830', 81.0),\n",
       " ('USC00514830', 81.0),\n",
       " ('USC00514830', 81.0),\n",
       " ('USC00514830', 81.0),\n",
       " ('USC00514830', 81.0),\n",
       " ('USC00514830', 81.0),\n",
       " ('USC00514830', 81.0),\n",
       " ('USC00514830', 81.0),\n",
       " ('USC00517948', 81.0),\n",
       " ('USC00517948', 81.0),\n",
       " ('USC00517948', 81.0),\n",
       " ('USC00517948', 81.0),\n",
       " ('USC00517948', 81.0),\n",
       " ('USC00517948', 81.0),\n",
       " ('USC00517948', 81.0),\n",
       " ('USC00517948', 81.0),\n",
       " ('USC00517948', 81.0),\n",
       " ('USC00517948', 81.0),\n",
       " ('USC00517948', 81.0),\n",
       " ('USC00517948', 81.0),\n",
       " ('USC00517948', 81.0),\n",
       " ('USC00517948', 81.0),\n",
       " ('USC00517948', 81.0),\n",
       " ('USC00517948', 81.0),\n",
       " ('USC00517948', 81.0),\n",
       " ('USC00517948', 81.0),\n",
       " ('USC00517948', 81.0),\n",
       " ('USC00517948', 81.0),\n",
       " ('USC00517948', 81.0),\n",
       " ('USC00517948', 81.0),\n",
       " ('USC00517948', 81.0),\n",
       " ('USC00517948', 81.0),\n",
       " ('USC00517948', 81.0),\n",
       " ('USC00517948', 81.0),\n",
       " ('USC00517948', 81.0),\n",
       " ('USC00517948', 81.0),\n",
       " ('USC00517948', 81.0),\n",
       " ('USC00517948', 81.0),\n",
       " ('USC00517948', 81.0),\n",
       " ('USC00517948', 81.0),\n",
       " ('USC00517948', 81.0),\n",
       " ('USC00517948', 81.0),\n",
       " ('USC00517948', 81.0),\n",
       " ('USC00517948', 81.0),\n",
       " ('USC00517948', 81.0),\n",
       " ('USC00517948', 81.0),\n",
       " ('USC00517948', 81.0),\n",
       " ('USC00517948', 81.0),\n",
       " ('USC00517948', 81.0),\n",
       " ('USC00517948', 81.0),\n",
       " ('USC00517948', 81.0),\n",
       " ('USC00517948', 81.0),\n",
       " ('USC00517948', 81.0),\n",
       " ('USC00517948', 81.0),\n",
       " ('USC00517948', 81.0),\n",
       " ('USC00517948', 81.0),\n",
       " ('USC00517948', 81.0),\n",
       " ('USC00517948', 81.0),\n",
       " ('USC00517948', 81.0),\n",
       " ('USC00517948', 81.0),\n",
       " ('USC00517948', 81.0),\n",
       " ('USC00517948', 81.0),\n",
       " ('USC00517948', 81.0),\n",
       " ('USC00517948', 81.0),\n",
       " ('USC00517948', 81.0),\n",
       " ('USC00517948', 81.0),\n",
       " ('USC00517948', 81.0),\n",
       " ('USC00517948', 81.0),\n",
       " ('USC00518838', 81.0),\n",
       " ('USC00519523', 81.0),\n",
       " ('USC00519523', 81.0),\n",
       " ('USC00519523', 81.0),\n",
       " ('USC00519523', 81.0),\n",
       " ('USC00519523', 81.0),\n",
       " ('USC00519523', 81.0),\n",
       " ('USC00519523', 81.0),\n",
       " ('USC00519523', 81.0),\n",
       " ('USC00519523', 81.0),\n",
       " ('USC00519523', 81.0),\n",
       " ('USC00519523', 81.0),\n",
       " ('USC00519523', 81.0),\n",
       " ('USC00519523', 81.0),\n",
       " ('USC00519523', 81.0),\n",
       " ('USC00519523', 81.0),\n",
       " ('USC00519523', 81.0),\n",
       " ('USC00519523', 81.0),\n",
       " ('USC00519523', 81.0),\n",
       " ('USC00519523', 81.0),\n",
       " ('USC00519523', 81.0),\n",
       " ('USC00519523', 81.0),\n",
       " ('USC00519523', 81.0),\n",
       " ('USC00519523', 81.0),\n",
       " ('USC00519523', 81.0),\n",
       " ('USC00519523', 81.0),\n",
       " ('USC00519523', 81.0),\n",
       " ('USC00519523', 81.0),\n",
       " ('USC00519523', 81.0),\n",
       " ('USC00519523', 81.0),\n",
       " ('USC00519523', 81.0),\n",
       " ('USC00519523', 81.0),\n",
       " ('USC00519523', 81.0),\n",
       " ('USC00519523', 81.0),\n",
       " ('USC00519523', 81.0),\n",
       " ('USC00519523', 81.0),\n",
       " ('USC00519523', 81.0),\n",
       " ('USC00519523', 81.0),\n",
       " ('USC00519523', 81.0),\n",
       " ('USC00519523', 81.0),\n",
       " ('USC00519523', 81.0),\n",
       " ('USC00519523', 81.0),\n",
       " ('USC00519523', 81.0),\n",
       " ('USC00519523', 81.0),\n",
       " ('USC00519523', 81.0),\n",
       " ('USC00519523', 81.0),\n",
       " ('USC00519523', 81.0),\n",
       " ('USC00519523', 81.0),\n",
       " ('USC00519523', 81.0),\n",
       " ('USC00519523', 81.0),\n",
       " ('USC00519523', 81.0),\n",
       " ('USC00519523', 81.0),\n",
       " ('USC00519523', 81.0),\n",
       " ('USC00519523', 81.0),\n",
       " ('USC00519523', 81.0),\n",
       " ('USC00519523', 81.0),\n",
       " ('USC00519523', 81.0),\n",
       " ('USC00519523', 81.0),\n",
       " ('USC00519523', 81.0),\n",
       " ('USC00519523', 81.0),\n",
       " ('USC00519523', 81.0),\n",
       " ('USC00519523', 81.0),\n",
       " ('USC00519523', 81.0),\n",
       " ('USC00519523', 81.0),\n",
       " ('USC00519523', 81.0),\n",
       " ('USC00519523', 81.0),\n",
       " ('USC00519523', 81.0),\n",
       " ('USC00519523', 81.0),\n",
       " ('USC00519523', 81.0),\n",
       " ('USC00519523', 81.0),\n",
       " ('USC00519523', 81.0),\n",
       " ('USC00519523', 81.0),\n",
       " ('USC00519523', 81.0),\n",
       " ('USC00519523', 81.0),\n",
       " ('USC00519523', 81.0),\n",
       " ('USC00519523', 81.0),\n",
       " ('USC00519523', 81.0),\n",
       " ('USC00519523', 81.0),\n",
       " ('USC00519523', 81.0),\n",
       " ('USC00519523', 81.0),\n",
       " ('USC00519523', 81.0),\n",
       " ('USC00519523', 81.0),\n",
       " ('USC00519281', 81.0),\n",
       " ('USC00519281', 81.0),\n",
       " ('USC00519281', 81.0),\n",
       " ('USC00519281', 81.0),\n",
       " ('USC00519281', 81.0),\n",
       " ('USC00519281', 81.0),\n",
       " ('USC00519281', 81.0),\n",
       " ('USC00519281', 81.0),\n",
       " ('USC00519281', 81.0),\n",
       " ('USC00519281', 81.0),\n",
       " ('USC00519281', 81.0),\n",
       " ('USC00519281', 81.0),\n",
       " ('USC00519281', 81.0),\n",
       " ('USC00519281', 81.0),\n",
       " ('USC00519281', 81.0),\n",
       " ('USC00519281', 81.0),\n",
       " ('USC00519281', 81.0),\n",
       " ('USC00519281', 81.0),\n",
       " ('USC00519281', 81.0),\n",
       " ('USC00519281', 81.0),\n",
       " ('USC00519281', 81.0),\n",
       " ('USC00519281', 81.0),\n",
       " ('USC00511918', 81.0),\n",
       " ('USC00511918', 81.0),\n",
       " ('USC00511918', 81.0),\n",
       " ('USC00511918', 81.0),\n",
       " ('USC00511918', 81.0),\n",
       " ('USC00511918', 81.0),\n",
       " ('USC00511918', 81.0),\n",
       " ('USC00511918', 81.0),\n",
       " ('USC00511918', 81.0),\n",
       " ('USC00511918', 81.0),\n",
       " ('USC00511918', 81.0),\n",
       " ('USC00511918', 81.0),\n",
       " ('USC00511918', 81.0),\n",
       " ('USC00511918', 81.0),\n",
       " ('USC00511918', 81.0),\n",
       " ('USC00511918', 81.0),\n",
       " ('USC00511918', 81.0),\n",
       " ('USC00511918', 81.0),\n",
       " ('USC00511918', 81.0),\n",
       " ('USC00511918', 81.0),\n",
       " ('USC00511918', 81.0),\n",
       " ('USC00511918', 81.0),\n",
       " ('USC00511918', 81.0),\n",
       " ('USC00511918', 81.0),\n",
       " ('USC00511918', 81.0),\n",
       " ('USC00511918', 81.0),\n",
       " ('USC00511918', 81.0),\n",
       " ('USC00511918', 81.0),\n",
       " ('USC00511918', 81.0),\n",
       " ('USC00511918', 81.0),\n",
       " ('USC00511918', 81.0),\n",
       " ('USC00511918', 81.0),\n",
       " ('USC00511918', 81.0),\n",
       " ('USC00511918', 81.0),\n",
       " ('USC00511918', 81.0),\n",
       " ('USC00511918', 81.0),\n",
       " ('USC00511918', 81.0),\n",
       " ('USC00511918', 81.0),\n",
       " ('USC00511918', 81.0),\n",
       " ('USC00511918', 81.0),\n",
       " ('USC00511918', 81.0),\n",
       " ('USC00511918', 81.0),\n",
       " ('USC00516128', 81.0),\n",
       " ('USC00516128', 81.0),\n",
       " ('USC00516128', 81.0),\n",
       " ('USC00516128', 81.0),\n",
       " ('USC00519397', 80.0),\n",
       " ('USC00519397', 80.0),\n",
       " ('USC00519397', 80.0),\n",
       " ('USC00519397', 80.0),\n",
       " ('USC00519397', 80.0),\n",
       " ('USC00519397', 80.0),\n",
       " ('USC00519397', 80.0),\n",
       " ('USC00519397', 80.0),\n",
       " ('USC00519397', 80.0),\n",
       " ('USC00519397', 80.0),\n",
       " ('USC00519397', 80.0),\n",
       " ('USC00519397', 80.0),\n",
       " ('USC00519397', 80.0),\n",
       " ('USC00519397', 80.0),\n",
       " ('USC00519397', 80.0),\n",
       " ('USC00519397', 80.0),\n",
       " ('USC00519397', 80.0),\n",
       " ('USC00519397', 80.0),\n",
       " ('USC00519397', 80.0),\n",
       " ('USC00519397', 80.0),\n",
       " ('USC00519397', 80.0),\n",
       " ('USC00519397', 80.0),\n",
       " ('USC00519397', 80.0),\n",
       " ('USC00519397', 80.0),\n",
       " ('USC00519397', 80.0),\n",
       " ('USC00519397', 80.0),\n",
       " ('USC00519397', 80.0),\n",
       " ('USC00519397', 80.0),\n",
       " ('USC00519397', 80.0),\n",
       " ('USC00519397', 80.0),\n",
       " ('USC00519397', 80.0),\n",
       " ('USC00519397', 80.0),\n",
       " ('USC00519397', 80.0),\n",
       " ('USC00519397', 80.0),\n",
       " ('USC00519397', 80.0),\n",
       " ('USC00519397', 80.0),\n",
       " ('USC00519397', 80.0),\n",
       " ('USC00519397', 80.0),\n",
       " ('USC00519397', 80.0),\n",
       " ('USC00519397', 80.0),\n",
       " ('USC00519397', 80.0),\n",
       " ('USC00519397', 80.0),\n",
       " ('USC00519397', 80.0),\n",
       " ('USC00519397', 80.0),\n",
       " ('USC00519397', 80.0),\n",
       " ('USC00519397', 80.0),\n",
       " ('USC00519397', 80.0),\n",
       " ('USC00519397', 80.0),\n",
       " ('USC00519397', 80.0),\n",
       " ('USC00519397', 80.0),\n",
       " ('USC00519397', 80.0),\n",
       " ('USC00519397', 80.0),\n",
       " ('USC00519397', 80.0),\n",
       " ('USC00519397', 80.0),\n",
       " ('USC00519397', 80.0),\n",
       " ('USC00519397', 80.0),\n",
       " ('USC00519397', 80.0),\n",
       " ('USC00519397', 80.0),\n",
       " ('USC00519397', 80.0),\n",
       " ('USC00519397', 80.0),\n",
       " ('USC00519397', 80.0),\n",
       " ('USC00519397', 80.0),\n",
       " ('USC00519397', 80.0),\n",
       " ('USC00519397', 80.0),\n",
       " ('USC00519397', 80.0),\n",
       " ('USC00519397', 80.0),\n",
       " ('USC00519397', 80.0),\n",
       " ('USC00519397', 80.0),\n",
       " ('USC00519397', 80.0),\n",
       " ('USC00519397', 80.0),\n",
       " ('USC00519397', 80.0),\n",
       " ('USC00519397', 80.0),\n",
       " ('USC00519397', 80.0),\n",
       " ('USC00519397', 80.0),\n",
       " ('USC00519397', 80.0),\n",
       " ('USC00519397', 80.0),\n",
       " ('USC00519397', 80.0),\n",
       " ('USC00519397', 80.0),\n",
       " ('USC00519397', 80.0),\n",
       " ('USC00519397', 80.0),\n",
       " ('USC00519397', 80.0),\n",
       " ('USC00519397', 80.0),\n",
       " ('USC00519397', 80.0),\n",
       " ('USC00519397', 80.0),\n",
       " ('USC00519397', 80.0),\n",
       " ('USC00519397', 80.0),\n",
       " ('USC00519397', 80.0),\n",
       " ('USC00519397', 80.0),\n",
       " ('USC00519397', 80.0),\n",
       " ('USC00519397', 80.0),\n",
       " ('USC00519397', 80.0),\n",
       " ('USC00519397', 80.0),\n",
       " ('USC00519397', 80.0),\n",
       " ('USC00519397', 80.0),\n",
       " ('USC00519397', 80.0),\n",
       " ('USC00519397', 80.0),\n",
       " ('USC00519397', 80.0),\n",
       " ('USC00519397', 80.0),\n",
       " ('USC00519397', 80.0),\n",
       " ('USC00519397', 80.0),\n",
       " ('USC00519397', 80.0),\n",
       " ('USC00519397', 80.0),\n",
       " ('USC00519397', 80.0),\n",
       " ('USC00519397', 80.0),\n",
       " ('USC00519397', 80.0),\n",
       " ('USC00519397', 80.0),\n",
       " ('USC00519397', 80.0),\n",
       " ('USC00519397', 80.0),\n",
       " ('USC00519397', 80.0),\n",
       " ('USC00519397', 80.0),\n",
       " ('USC00519397', 80.0),\n",
       " ('USC00519397', 80.0),\n",
       " ('USC00519397', 80.0),\n",
       " ('USC00519397', 80.0),\n",
       " ('USC00519397', 80.0),\n",
       " ('USC00519397', 80.0),\n",
       " ('USC00519397', 80.0),\n",
       " ('USC00519397', 80.0),\n",
       " ('USC00519397', 80.0),\n",
       " ('USC00519397', 80.0),\n",
       " ('USC00519397', 80.0),\n",
       " ('USC00519397', 80.0),\n",
       " ('USC00519397', 80.0),\n",
       " ('USC00519397', 80.0),\n",
       " ('USC00519397', 80.0),\n",
       " ('USC00519397', 80.0),\n",
       " ('USC00519397', 80.0),\n",
       " ('USC00519397', 80.0),\n",
       " ('USC00519397', 80.0),\n",
       " ('USC00519397', 80.0),\n",
       " ('USC00519397', 80.0),\n",
       " ('USC00519397', 80.0),\n",
       " ('USC00519397', 80.0),\n",
       " ('USC00519397', 80.0),\n",
       " ('USC00519397', 80.0),\n",
       " ('USC00519397', 80.0),\n",
       " ('USC00519397', 80.0),\n",
       " ('USC00519397', 80.0),\n",
       " ('USC00519397', 80.0),\n",
       " ('USC00519397', 80.0),\n",
       " ('USC00519397', 80.0),\n",
       " ('USC00519397', 80.0),\n",
       " ('USC00519397', 80.0),\n",
       " ('USC00519397', 80.0),\n",
       " ('USC00519397', 80.0),\n",
       " ('USC00513117', 80.0),\n",
       " ('USC00513117', 80.0),\n",
       " ('USC00513117', 80.0),\n",
       " ('USC00513117', 80.0),\n",
       " ('USC00513117', 80.0),\n",
       " ('USC00513117', 80.0),\n",
       " ('USC00513117', 80.0),\n",
       " ('USC00513117', 80.0),\n",
       " ('USC00513117', 80.0),\n",
       " ('USC00513117', 80.0),\n",
       " ('USC00513117', 80.0),\n",
       " ('USC00513117', 80.0),\n",
       " ('USC00513117', 80.0),\n",
       " ('USC00513117', 80.0),\n",
       " ('USC00513117', 80.0),\n",
       " ('USC00514830', 80.0),\n",
       " ('USC00514830', 80.0),\n",
       " ('USC00514830', 80.0),\n",
       " ('USC00514830', 80.0),\n",
       " ('USC00514830', 80.0),\n",
       " ('USC00514830', 80.0),\n",
       " ('USC00514830', 80.0),\n",
       " ('USC00514830', 80.0),\n",
       " ('USC00514830', 80.0),\n",
       " ('USC00514830', 80.0),\n",
       " ('USC00514830', 80.0),\n",
       " ('USC00514830', 80.0),\n",
       " ('USC00514830', 80.0),\n",
       " ('USC00514830', 80.0),\n",
       " ('USC00514830', 80.0),\n",
       " ('USC00514830', 80.0),\n",
       " ('USC00514830', 80.0),\n",
       " ('USC00514830', 80.0),\n",
       " ('USC00514830', 80.0),\n",
       " ('USC00514830', 80.0),\n",
       " ('USC00514830', 80.0),\n",
       " ('USC00514830', 80.0),\n",
       " ('USC00514830', 80.0),\n",
       " ('USC00514830', 80.0),\n",
       " ('USC00514830', 80.0),\n",
       " ('USC00514830', 80.0),\n",
       " ('USC00514830', 80.0),\n",
       " ('USC00514830', 80.0),\n",
       " ('USC00514830', 80.0),\n",
       " ('USC00514830', 80.0),\n",
       " ('USC00514830', 80.0),\n",
       " ('USC00514830', 80.0),\n",
       " ('USC00514830', 80.0),\n",
       " ('USC00514830', 80.0),\n",
       " ('USC00514830', 80.0),\n",
       " ('USC00514830', 80.0),\n",
       " ('USC00514830', 80.0),\n",
       " ('USC00514830', 80.0),\n",
       " ('USC00514830', 80.0),\n",
       " ('USC00514830', 80.0),\n",
       " ('USC00514830', 80.0),\n",
       " ('USC00514830', 80.0),\n",
       " ('USC00514830', 80.0),\n",
       " ('USC00514830', 80.0),\n",
       " ('USC00514830', 80.0),\n",
       " ('USC00514830', 80.0),\n",
       " ('USC00514830', 80.0),\n",
       " ('USC00514830', 80.0),\n",
       " ('USC00514830', 80.0),\n",
       " ('USC00514830', 80.0),\n",
       " ('USC00514830', 80.0),\n",
       " ('USC00514830', 80.0),\n",
       " ('USC00514830', 80.0),\n",
       " ('USC00514830', 80.0),\n",
       " ('USC00514830', 80.0),\n",
       " ('USC00514830', 80.0),\n",
       " ('USC00514830', 80.0),\n",
       " ('USC00514830', 80.0),\n",
       " ('USC00514830', 80.0),\n",
       " ('USC00514830', 80.0),\n",
       " ('USC00514830', 80.0),\n",
       " ('USC00514830', 80.0),\n",
       " ('USC00514830', 80.0),\n",
       " ('USC00514830', 80.0),\n",
       " ('USC00514830', 80.0),\n",
       " ('USC00514830', 80.0),\n",
       " ('USC00514830', 80.0),\n",
       " ('USC00514830', 80.0),\n",
       " ('USC00514830', 80.0),\n",
       " ('USC00514830', 80.0),\n",
       " ('USC00514830', 80.0),\n",
       " ('USC00514830', 80.0),\n",
       " ('USC00514830', 80.0),\n",
       " ('USC00514830', 80.0),\n",
       " ('USC00514830', 80.0),\n",
       " ('USC00514830', 80.0),\n",
       " ('USC00514830', 80.0),\n",
       " ('USC00514830', 80.0),\n",
       " ('USC00514830', 80.0),\n",
       " ('USC00514830', 80.0),\n",
       " ('USC00514830', 80.0),\n",
       " ('USC00514830', 80.0),\n",
       " ('USC00514830', 80.0),\n",
       " ('USC00514830', 80.0),\n",
       " ('USC00514830', 80.0),\n",
       " ('USC00514830', 80.0),\n",
       " ('USC00514830', 80.0),\n",
       " ('USC00514830', 80.0),\n",
       " ('USC00514830', 80.0),\n",
       " ('USC00514830', 80.0),\n",
       " ('USC00514830', 80.0),\n",
       " ('USC00514830', 80.0),\n",
       " ('USC00514830', 80.0),\n",
       " ('USC00514830', 80.0),\n",
       " ('USC00514830', 80.0),\n",
       " ('USC00514830', 80.0),\n",
       " ('USC00514830', 80.0),\n",
       " ('USC00514830', 80.0),\n",
       " ('USC00514830', 80.0),\n",
       " ('USC00514830', 80.0),\n",
       " ('USC00514830', 80.0),\n",
       " ('USC00514830', 80.0),\n",
       " ('USC00514830', 80.0),\n",
       " ('USC00514830', 80.0),\n",
       " ('USC00514830', 80.0),\n",
       " ('USC00514830', 80.0),\n",
       " ('USC00514830', 80.0),\n",
       " ('USC00514830', 80.0),\n",
       " ('USC00514830', 80.0),\n",
       " ('USC00514830', 80.0),\n",
       " ('USC00514830', 80.0),\n",
       " ('USC00514830', 80.0),\n",
       " ('USC00514830', 80.0),\n",
       " ('USC00514830', 80.0),\n",
       " ('USC00514830', 80.0),\n",
       " ('USC00514830', 80.0),\n",
       " ('USC00514830', 80.0),\n",
       " ('USC00514830', 80.0),\n",
       " ('USC00517948', 80.0),\n",
       " ('USC00517948', 80.0),\n",
       " ('USC00517948', 80.0),\n",
       " ('USC00517948', 80.0),\n",
       " ('USC00517948', 80.0),\n",
       " ('USC00517948', 80.0),\n",
       " ('USC00517948', 80.0),\n",
       " ('USC00517948', 80.0),\n",
       " ('USC00517948', 80.0),\n",
       " ('USC00517948', 80.0),\n",
       " ('USC00517948', 80.0),\n",
       " ('USC00517948', 80.0),\n",
       " ('USC00517948', 80.0),\n",
       " ('USC00517948', 80.0),\n",
       " ('USC00517948', 80.0),\n",
       " ('USC00517948', 80.0),\n",
       " ('USC00517948', 80.0),\n",
       " ('USC00517948', 80.0),\n",
       " ('USC00517948', 80.0),\n",
       " ('USC00517948', 80.0),\n",
       " ('USC00517948', 80.0),\n",
       " ('USC00517948', 80.0),\n",
       " ('USC00517948', 80.0),\n",
       " ('USC00517948', 80.0),\n",
       " ('USC00517948', 80.0),\n",
       " ('USC00517948', 80.0),\n",
       " ('USC00517948', 80.0),\n",
       " ('USC00517948', 80.0),\n",
       " ('USC00517948', 80.0),\n",
       " ('USC00517948', 80.0),\n",
       " ('USC00517948', 80.0),\n",
       " ('USC00517948', 80.0),\n",
       " ('USC00517948', 80.0),\n",
       " ('USC00517948', 80.0),\n",
       " ('USC00517948', 80.0),\n",
       " ('USC00517948', 80.0),\n",
       " ...]"
      ]
     },
     "execution_count": 15,
     "metadata": {},
     "output_type": "execute_result"
    }
   ],
   "source": [
    "\"\"\"\n",
    "Design a query to calculate the total number of stations.\n",
    "    -List the stations and observation counts in descending order.\n",
    "    -Which station has the highest number of observations?\n",
    "Hint: You may need to use functions such as func.min, func.max, func.avg, and func.count in your queries.\n",
    "\"\"\"\n",
    "session=Session(engine)\n",
    "stations = session.query(Station.station).count()\n",
    "print(f\"There are {stations} stations.\")\n",
    "\n",
    "observation = session.query(Measurement.station, Measurement.tobs).\\\n",
    "    order_by(Measurement.tobs.desc()).all()\n",
    "observation \n"
   ]
  },
  {
   "cell_type": "code",
   "execution_count": 19,
   "metadata": {},
   "outputs": [
    {
     "name": "stdout",
     "output_type": "stream",
     "text": [
      "USC00519281 has the highest number of observations\n"
     ]
    },
    {
     "data": {
      "text/plain": [
       "[('USC00519281', 2772),\n",
       " ('USC00519397', 2724),\n",
       " ('USC00513117', 2709),\n",
       " ('USC00519523', 2669),\n",
       " ('USC00516128', 2612),\n",
       " ('USC00514830', 2202),\n",
       " ('USC00511918', 1979),\n",
       " ('USC00517948', 1372),\n",
       " ('USC00518838', 511)]"
      ]
     },
     "execution_count": 19,
     "metadata": {},
     "output_type": "execute_result"
    }
   ],
   "source": [
    "\"\"\"\n",
    "-Which station has the highest number of observations?\n",
    "Hint: You may need to use functions such as func.min, func.max, func.avg, and func.count in your queries.\n",
    "\"\"\"\n",
    "from sqlalchemy import func\n",
    "\n",
    "high =session.query(Measurement.station, func.count(Measurement.tobs)).\\\n",
    "        group_by(Measurement.station).\\\n",
    "        order_by(func.count(Measurement.tobs).desc()).all()\n",
    "print(\"USC00519281 has the highest number of observations\")\n",
    "high"
   ]
  },
  {
   "cell_type": "code",
   "execution_count": 17,
   "metadata": {},
   "outputs": [
    {
     "data": {
      "text/plain": [
       "'\\nDesign a query to retrieve the last 12 months of temperature observation data (TOBS).\\n    -Filter by the station with the highest number of observations.\\n'"
      ]
     },
     "execution_count": 17,
     "metadata": {},
     "output_type": "execute_result"
    }
   ],
   "source": [
    "\"\"\"\n",
    "Design a query to retrieve the last 12 months of temperature observation data (TOBS).\n",
    "    -Filter by the station with the highest number of observations.\n",
    "\"\"\"\n"
   ]
  },
  {
   "cell_type": "code",
   "execution_count": 18,
   "metadata": {},
   "outputs": [
    {
     "data": {
      "text/plain": [
       "'\\nPlot the results as a histogram with bins=12.\\n'"
      ]
     },
     "execution_count": 18,
     "metadata": {},
     "output_type": "execute_result"
    }
   ],
   "source": [
    "\"\"\"\n",
    "Plot the results as a histogram with bins=12.\n",
    "\"\"\""
   ]
  },
  {
   "cell_type": "markdown",
   "metadata": {},
   "source": [
    "## Step 2 - Climate App"
   ]
  },
  {
   "cell_type": "code",
   "execution_count": 19,
   "metadata": {},
   "outputs": [
    {
     "data": {
      "text/plain": [
       "'\\nNow that you have completed your initial analysis, design a Flask API based on the queries that you have just developed.\\nUse Flask to create your routes.\\n\\nRoutes:\\n/\\n    -Home page.\\n    -List all routes that are available.\\n'"
      ]
     },
     "execution_count": 19,
     "metadata": {},
     "output_type": "execute_result"
    }
   ],
   "source": [
    "\"\"\"\n",
    "Now that you have completed your initial analysis, design a Flask API based on the queries that you have just developed.\n",
    "Use Flask to create your routes.\n",
    "\n",
    "Routes:\n",
    "/\n",
    "    -Home page.\n",
    "    -List all routes that are available.\n",
    "\"\"\"\n",
    "\n"
   ]
  },
  {
   "cell_type": "code",
   "execution_count": 20,
   "metadata": {},
   "outputs": [
    {
     "data": {
      "text/plain": [
       "'\\n/api/v1.0/precipitation\\n    -Convert the query results to a dictionary using date as the key and prcp as the value.\\n    -Return the JSON representation of your dictionary.\\n'"
      ]
     },
     "execution_count": 20,
     "metadata": {},
     "output_type": "execute_result"
    }
   ],
   "source": [
    "\"\"\"\n",
    "/api/v1.0/precipitation\n",
    "    -Convert the query results to a dictionary using date as the key and prcp as the value.\n",
    "    -Return the JSON representation of your dictionary.\n",
    "\"\"\"\n",
    "\n",
    "\n"
   ]
  },
  {
   "cell_type": "code",
   "execution_count": 21,
   "metadata": {},
   "outputs": [
    {
     "data": {
      "text/plain": [
       "'\\n/api/v1.0/stations\\n    -Return a JSON list of stations from the dataset.\\n'"
      ]
     },
     "execution_count": 21,
     "metadata": {},
     "output_type": "execute_result"
    }
   ],
   "source": [
    "\"\"\"\n",
    "/api/v1.0/stations\n",
    "    -Return a JSON list of stations from the dataset.\n",
    "\"\"\"\n",
    "\n"
   ]
  },
  {
   "cell_type": "code",
   "execution_count": 22,
   "metadata": {},
   "outputs": [
    {
     "data": {
      "text/plain": [
       "'\\n/api/v1.0/tobs\\n    -Query the dates and temperature observations of the most active station for the last year of data.\\n    -Return a JSON list of temperature observations (TOBS) for the previous year.\\n'"
      ]
     },
     "execution_count": 22,
     "metadata": {},
     "output_type": "execute_result"
    }
   ],
   "source": [
    "\"\"\"\n",
    "/api/v1.0/tobs\n",
    "    -Query the dates and temperature observations of the most active station for the last year of data.\n",
    "    -Return a JSON list of temperature observations (TOBS) for the previous year.\n",
    "\"\"\"\n",
    "\n"
   ]
  },
  {
   "cell_type": "code",
   "execution_count": 23,
   "metadata": {},
   "outputs": [
    {
     "data": {
      "text/plain": [
       "'\\n/api/v1.0/<start> and /api/v1.0/<start>/<end>\\n    -Return a JSON list of the minimum temperature, the average temperature, and the max temperature for a given start \\n     or start-end range.\\n    -When given the start only, calculate TMIN, TAVG, and TMAX for all dates greater than and equal to the start date.\\n    -When given the start and the end date, calculate the TMIN, TAVG, and TMAX for dates between the start and \\n     end date inclusive.\\n'"
      ]
     },
     "execution_count": 23,
     "metadata": {},
     "output_type": "execute_result"
    }
   ],
   "source": [
    "\"\"\"\n",
    "/api/v1.0/<start> and /api/v1.0/<start>/<end>\n",
    "    -Return a JSON list of the minimum temperature, the average temperature, and the max temperature for a given start \n",
    "     or start-end range.\n",
    "    -When given the start only, calculate TMIN, TAVG, and TMAX for all dates greater than and equal to the start date.\n",
    "    -When given the start and the end date, calculate the TMIN, TAVG, and TMAX for dates between the start and \n",
    "     end date inclusive.\n",
    "\"\"\"\n",
    "\n"
   ]
  },
  {
   "cell_type": "markdown",
   "metadata": {},
   "source": [
    "  ## Bonus Challenge Assignment"
   ]
  },
  {
   "cell_type": "markdown",
   "metadata": {},
   "source": [
    "### Temperature Analysis I"
   ]
  },
  {
   "cell_type": "code",
   "execution_count": 24,
   "metadata": {},
   "outputs": [
    {
     "data": {
      "text/plain": [
       "'\\nHawaii is reputed to enjoy mild weather all year. Is there a meaningful difference between the temperature in, \\nfor example, June and December?\\n'"
      ]
     },
     "execution_count": 24,
     "metadata": {},
     "output_type": "execute_result"
    }
   ],
   "source": [
    "\"\"\"\n",
    "Hawaii is reputed to enjoy mild weather all year. Is there a meaningful difference between the temperature in, \n",
    "for example, June and December?\n",
    "\"\"\"\n",
    "\n",
    "\n"
   ]
  },
  {
   "cell_type": "code",
   "execution_count": 25,
   "metadata": {},
   "outputs": [
    {
     "data": {
      "text/plain": [
       "\"\\nYou may either use SQLAlchemy or pandas's read_csv() to perform this portion.\\nIdentify the average temperature in June at all stations across all available years in the dataset. Do the same for December temperature.\\n\""
      ]
     },
     "execution_count": 25,
     "metadata": {},
     "output_type": "execute_result"
    }
   ],
   "source": [
    "\"\"\"\n",
    "You may either use SQLAlchemy or pandas's read_csv() to perform this portion.\n",
    "Identify the average temperature in June at all stations across all available years in the dataset. Do the same for December temperature.\n",
    "\"\"\"\n",
    "\n"
   ]
  },
  {
   "cell_type": "code",
   "execution_count": 26,
   "metadata": {},
   "outputs": [
    {
     "data": {
      "text/plain": [
       "'\\nUse the t-test to determine whether the difference in the means, if any, is statistically significant. Will you use a paired t-test, or an unpaired t-test? Why?\\n'"
      ]
     },
     "execution_count": 26,
     "metadata": {},
     "output_type": "execute_result"
    }
   ],
   "source": [
    "\"\"\"\n",
    "Use the t-test to determine whether the difference in the means, if any, is statistically significant. Will you use a paired t-test, or an unpaired t-test? Why?\n",
    "\"\"\"\n",
    "\n",
    "\n"
   ]
  },
  {
   "cell_type": "markdown",
   "metadata": {},
   "source": [
    "### Temperature Analysis II"
   ]
  },
  {
   "cell_type": "code",
   "execution_count": 27,
   "metadata": {},
   "outputs": [
    {
     "name": "stdout",
     "output_type": "stream",
     "text": [
      "[(62.0, 69.57142857142857, 74.0)]\n"
     ]
    }
   ],
   "source": [
    "\"\"\"\n",
    "The starter notebook contains a function called calc_temps that will accept a start date and end date in the \n",
    "format %Y-%m-%d. The function will return the minimum, average, and maximum temperatures for that range of dates.\n",
    "\n",
    "\"\"\"\n",
    "\n",
    "def calc_temps(start_date, end_date):\n",
    "    \"\"\"TMIN, TAVG, and TMAX for a list of dates.\n",
    "    \n",
    "    Args:\n",
    "        start_date (string): A date string in the format %Y-%m-%d\n",
    "        end_date (string): A date string in the format %Y-%m-%d\n",
    "        \n",
    "    Returns:\n",
    "        TMIN, TAVE, and TMAX\n",
    "    \"\"\"\n",
    "    \n",
    "    return session.query(func.min(Measurement.tobs), func.avg(Measurement.tobs), func.max(Measurement.tobs)).\\\n",
    "        filter(Measurement.date >= start_date).filter(Measurement.date <= end_date).all()\n",
    "\n",
    "# function usage example\n",
    "print(calc_temps('2012-02-28', '2012-03-05'))"
   ]
  },
  {
   "cell_type": "code",
   "execution_count": 28,
   "metadata": {},
   "outputs": [
    {
     "data": {
      "text/plain": [
       "'\\nUse the calc_temps function to calculate the min, avg, and max temperatures for your trip using the matching dates \\nfrom the previous year (i.e., use \"2017-01-01\" if your trip start date was \"2018-01-01\").\\n'"
      ]
     },
     "execution_count": 28,
     "metadata": {},
     "output_type": "execute_result"
    }
   ],
   "source": [
    "\"\"\"\n",
    "Use the calc_temps function to calculate the min, avg, and max temperatures for your trip using the matching dates \n",
    "from the previous year (i.e., use \"2017-01-01\" if your trip start date was \"2018-01-01\").\n",
    "\"\"\"\n",
    "\n"
   ]
  },
  {
   "cell_type": "code",
   "execution_count": 29,
   "metadata": {},
   "outputs": [
    {
     "data": {
      "text/plain": [
       "'\\nPlot the min, avg, and max temperature from your previous query as a bar chart.\\n    -Use the average temperature as the bar height(y value).\\n    -Use the peak-to-peak (TMAX-TMIN) value as the y error bar (YERR).\\n    -Use \"Trip Avg Temp\" as your Title\\n'"
      ]
     },
     "execution_count": 29,
     "metadata": {},
     "output_type": "execute_result"
    }
   ],
   "source": [
    "\"\"\"\n",
    "Plot the min, avg, and max temperature from your previous query as a bar chart.\n",
    "    -Use the average temperature as the bar height(y value).\n",
    "    -Use the peak-to-peak (TMAX-TMIN) value as the y error bar (YERR).\n",
    "    -Use \"Trip Avg Temp\" as your Title\n",
    "\"\"\"\n",
    "\n"
   ]
  },
  {
   "cell_type": "markdown",
   "metadata": {},
   "source": [
    "### Daily Rainfall Average"
   ]
  },
  {
   "cell_type": "code",
   "execution_count": 30,
   "metadata": {},
   "outputs": [
    {
     "data": {
      "text/plain": [
       "\"\\nCalculate the rainfall per weather station using the previous year's matching dates.\\n\""
      ]
     },
     "execution_count": 30,
     "metadata": {},
     "output_type": "execute_result"
    }
   ],
   "source": [
    "\"\"\"\n",
    "Calculate the rainfall per weather station using the previous year's matching dates.\n",
    "\"\"\"\n"
   ]
  },
  {
   "cell_type": "code",
   "execution_count": 31,
   "metadata": {},
   "outputs": [
    {
     "data": {
      "text/plain": [
       "'\\nCalculate the daily normals. Normals are the averages for the min, avg, and max temperatures.\\n'"
      ]
     },
     "execution_count": 31,
     "metadata": {},
     "output_type": "execute_result"
    }
   ],
   "source": [
    "\"\"\"\n",
    "Calculate the daily normals. Normals are the averages for the min, avg, and max temperatures.\n",
    "\"\"\"\n",
    "\n"
   ]
  },
  {
   "cell_type": "code",
   "execution_count": 32,
   "metadata": {},
   "outputs": [
    {
     "data": {
      "text/plain": [
       "[(62.0, 69.15384615384616, 77.0)]"
      ]
     },
     "execution_count": 32,
     "metadata": {},
     "output_type": "execute_result"
    }
   ],
   "source": [
    "\"\"\"\n",
    "You are provided with a function called daily_normals that will calculate the daily normals for a specific date. \n",
    "This date string will be in the format %m-%d. Be sure to use all historic TOBS that match that date string.\n",
    "\"\"\"\n",
    "\n",
    "def daily_normals(date):\n",
    "    \"\"\"Daily Normals.\n",
    "    \n",
    "    Args:\n",
    "        date (str): A date string in the format '%m-%d'\n",
    "        \n",
    "    Returns:\n",
    "        A list of tuples containing the daily normals, tmin, tavg, and tmax\n",
    "    \n",
    "    \"\"\"\n",
    "    \n",
    "    sel = [func.min(Measurement.tobs), func.avg(Measurement.tobs), func.max(Measurement.tobs)]\n",
    "    return session.query(*sel).filter(func.strftime(\"%m-%d\", Measurement.date) == date).all()\n",
    "    \n",
    "daily_normals(\"01-01\")"
   ]
  },
  {
   "cell_type": "code",
   "execution_count": 33,
   "metadata": {},
   "outputs": [
    {
     "data": {
      "text/plain": [
       "'\\nCreate a list of dates for your trip in the format %m-%d. Use the daily_normals function to calculate the normals \\nfor each date string and append the results to a list.\\n\\n'"
      ]
     },
     "execution_count": 33,
     "metadata": {},
     "output_type": "execute_result"
    }
   ],
   "source": [
    "\"\"\"\n",
    "Create a list of dates for your trip in the format %m-%d. Use the daily_normals function to calculate the normals \n",
    "for each date string and append the results to a list.\n",
    "\n",
    "\"\"\"\n"
   ]
  },
  {
   "cell_type": "code",
   "execution_count": 34,
   "metadata": {},
   "outputs": [
    {
     "data": {
      "text/plain": [
       "'\\nLoad the list of daily normals into a Pandas DataFrame and set the index equal to the date.\\n'"
      ]
     },
     "execution_count": 34,
     "metadata": {},
     "output_type": "execute_result"
    }
   ],
   "source": [
    "\"\"\"\n",
    "Load the list of daily normals into a Pandas DataFrame and set the index equal to the date.\n",
    "\"\"\""
   ]
  },
  {
   "cell_type": "code",
   "execution_count": 35,
   "metadata": {},
   "outputs": [
    {
     "data": {
      "text/plain": [
       "'\\nUse Pandas to plot an area plot (stacked=False) for the daily normals.\\n'"
      ]
     },
     "execution_count": 35,
     "metadata": {},
     "output_type": "execute_result"
    }
   ],
   "source": [
    "\"\"\"\n",
    "Use Pandas to plot an area plot (stacked=False) for the daily normals.\n",
    "\"\"\""
   ]
  },
  {
   "cell_type": "code",
   "execution_count": null,
   "metadata": {},
   "outputs": [],
   "source": []
  }
 ],
 "metadata": {
  "kernelspec": {
   "display_name": "Python 3",
   "language": "python",
   "name": "python3"
  },
  "language_info": {
   "codemirror_mode": {
    "name": "ipython",
    "version": 3
   },
   "file_extension": ".py",
   "mimetype": "text/x-python",
   "name": "python",
   "nbconvert_exporter": "python",
   "pygments_lexer": "ipython3",
   "version": "3.6.10"
  }
 },
 "nbformat": 4,
 "nbformat_minor": 4
}
